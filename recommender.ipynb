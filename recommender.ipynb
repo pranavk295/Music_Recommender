{
  "cells": [
    {
      "cell_type": "code",
      "execution_count": 423,
      "metadata": {
        "colab": {
          "base_uri": "https://localhost:8080/"
        },
        "id": "blrgt620Dbf0",
        "outputId": "94a0354b-535c-45ac-9f24-dda712fe2b32"
      },
      "outputs": [
        {
          "name": "stdout",
          "output_type": "stream",
          "text": [
            "Requirement already satisfied: surprise in /Library/Frameworks/Python.framework/Versions/3.12/lib/python3.12/site-packages (0.1)\n",
            "Requirement already satisfied: scikit-surprise in /Library/Frameworks/Python.framework/Versions/3.12/lib/python3.12/site-packages (from surprise) (1.1.4)\n",
            "Requirement already satisfied: joblib>=1.2.0 in /Library/Frameworks/Python.framework/Versions/3.12/lib/python3.12/site-packages (from scikit-surprise->surprise) (1.3.2)\n",
            "Requirement already satisfied: numpy>=1.19.5 in /Library/Frameworks/Python.framework/Versions/3.12/lib/python3.12/site-packages (from scikit-surprise->surprise) (1.26.2)\n",
            "Requirement already satisfied: scipy>=1.6.0 in /Library/Frameworks/Python.framework/Versions/3.12/lib/python3.12/site-packages (from scikit-surprise->surprise) (1.11.4)\n",
            "Note: you may need to restart the kernel to use updated packages.\n"
          ]
        }
      ],
      "source": [
        "%pip install surprise"
      ]
    },
    {
      "cell_type": "code",
      "execution_count": 424,
      "metadata": {
        "id": "9eVzwOnDDUK_"
      },
      "outputs": [],
      "source": [
        "import pandas as pd\n",
        "from surprise import Dataset,Reader,SVDpp, accuracy\n",
        "from  pathlib import Path"
      ]
    },
    {
      "cell_type": "code",
      "execution_count": 425,
      "metadata": {
        "id": "6WYgYuibDULA"
      },
      "outputs": [],
      "source": [
        "df=pd.read_csv(Path(\"hetrec2011-lastfm-2k/user_artists.dat\"),delimiter='\\t',header=None)\n",
        "df2=pd.read_csv(Path(\"hetrec2011-lastfm-2k/artists.dat\"),delimiter='\\t',header=None)\n",
        "df2.columns=['artistID','name','url','pictureURL']\n",
        "df.columns=['userID','artistID','weight']"
      ]
    },
    {
      "cell_type": "code",
      "execution_count": 426,
      "metadata": {
        "colab": {
          "base_uri": "https://localhost:8080/"
        },
        "id": "fnWteVbrDULA",
        "outputId": "3fa9169d-b41f-4647-8310-c078f56fead0"
      },
      "outputs": [],
      "source": [
        "df=df.iloc[1:]\n",
        "df2=df2.iloc[1:]\n",
        "df.reset_index(drop=True, inplace=True)\n",
        "df.head()\n",
        "df['weight']=df['weight'].astype(int)"
      ]
    },
    {
      "cell_type": "markdown",
      "metadata": {
        "id": "eCHvdQR2DULA"
      },
      "source": [
        "## Collaborative Filtering (listen count)"
      ]
    },
    {
      "cell_type": "markdown",
      "metadata": {
        "id": "ihyEhAkvDULB"
      },
      "source": [
        "### **model** - SVD++\n"
      ]
    },
    {
      "cell_type": "code",
      "execution_count": 427,
      "metadata": {
        "colab": {
          "base_uri": "https://localhost:8080/"
        },
        "id": "do_yK-bEDULB",
        "outputId": "79740454-e5d3-4156-d4a2-7253b254ed55"
      },
      "outputs": [],
      "source": [
        "\n",
        "#normalized_rating=min_rating+ max_listen_count−min_listen_count(listen_count−min_listen_count)×(max_rating−min_rating)\n",
        "from sklearn.preprocessing import MinMaxScaler\n",
        "import numpy as np\n",
        "df['weight']=df['weight'].astype(int)\n",
        "df['weight'] = np.log1p(df['weight'])\n",
        "scaler=MinMaxScaler(feature_range=(1,5))\n",
        "df['weight']=scaler.fit_transform(df[['weight']])"
      ]
    },
    {
      "cell_type": "code",
      "execution_count": 428,
      "metadata": {
        "colab": {
          "base_uri": "https://localhost:8080/",
          "height": 206
        },
        "id": "hw0Rj2f7DULB",
        "outputId": "e84de474-6eab-4b5d-9c00-0cec8bbf7092"
      },
      "outputs": [
        {
          "data": {
            "text/html": [
              "<div>\n",
              "<style scoped>\n",
              "    .dataframe tbody tr th:only-of-type {\n",
              "        vertical-align: middle;\n",
              "    }\n",
              "\n",
              "    .dataframe tbody tr th {\n",
              "        vertical-align: top;\n",
              "    }\n",
              "\n",
              "    .dataframe thead th {\n",
              "        text-align: right;\n",
              "    }\n",
              "</style>\n",
              "<table border=\"1\" class=\"dataframe\">\n",
              "  <thead>\n",
              "    <tr style=\"text-align: right;\">\n",
              "      <th></th>\n",
              "      <th>userID</th>\n",
              "      <th>artistID</th>\n",
              "      <th>weight</th>\n",
              "    </tr>\n",
              "  </thead>\n",
              "  <tbody>\n",
              "    <tr>\n",
              "      <th>0</th>\n",
              "      <td>2</td>\n",
              "      <td>51</td>\n",
              "      <td>3.928868</td>\n",
              "    </tr>\n",
              "    <tr>\n",
              "      <th>1</th>\n",
              "      <td>2</td>\n",
              "      <td>52</td>\n",
              "      <td>3.871943</td>\n",
              "    </tr>\n",
              "    <tr>\n",
              "      <th>2</th>\n",
              "      <td>2</td>\n",
              "      <td>53</td>\n",
              "      <td>3.862199</td>\n",
              "    </tr>\n",
              "    <tr>\n",
              "      <th>3</th>\n",
              "      <td>2</td>\n",
              "      <td>54</td>\n",
              "      <td>3.830030</td>\n",
              "    </tr>\n",
              "    <tr>\n",
              "      <th>4</th>\n",
              "      <td>2</td>\n",
              "      <td>55</td>\n",
              "      <td>3.784734</td>\n",
              "    </tr>\n",
              "  </tbody>\n",
              "</table>\n",
              "</div>"
            ],
            "text/plain": [
              "  userID artistID    weight\n",
              "0      2       51  3.928868\n",
              "1      2       52  3.871943\n",
              "2      2       53  3.862199\n",
              "3      2       54  3.830030\n",
              "4      2       55  3.784734"
            ]
          },
          "execution_count": 428,
          "metadata": {},
          "output_type": "execute_result"
        }
      ],
      "source": [
        "df.head()"
      ]
    },
    {
      "cell_type": "code",
      "execution_count": 429,
      "metadata": {
        "id": "S7bvfli-DULB"
      },
      "outputs": [],
      "source": [
        "reader=Reader(rating_scale=(1,5))"
      ]
    },
    {
      "cell_type": "code",
      "execution_count": 430,
      "metadata": {
        "id": "6l2rg4YkDULB"
      },
      "outputs": [],
      "source": [
        "from surprise.model_selection import train_test_split\n",
        "\n",
        "\n",
        "surprise_data= Dataset.load_from_df(df,reader=reader)\n",
        "trainset, testset = train_test_split(surprise_data,test_size=0.25)"
      ]
    },
    {
      "cell_type": "code",
      "execution_count": 431,
      "metadata": {
        "colab": {
          "base_uri": "https://localhost:8080/"
        },
        "id": "GsLblVA-DULB",
        "outputId": "7fb8d538-b5e1-4745-f7a4-da4831c6bca3"
      },
      "outputs": [
        {
          "data": {
            "text/plain": [
              "<surprise.prediction_algorithms.matrix_factorization.SVDpp at 0x2b12b7ec0>"
            ]
          },
          "execution_count": 431,
          "metadata": {},
          "output_type": "execute_result"
        }
      ],
      "source": [
        "model=SVDpp()\n",
        "model.fit(trainset)\n"
      ]
    },
    {
      "cell_type": "code",
      "execution_count": 432,
      "metadata": {
        "colab": {
          "base_uri": "https://localhost:8080/"
        },
        "id": "cHxJyAXDDULB",
        "outputId": "4061832d-2294-437a-cef2-6af4f3d182e6"
      },
      "outputs": [
        {
          "name": "stdout",
          "output_type": "stream",
          "text": [
            "user: 255        item: 4865       r_ui = 2.39   est = 2.59   {'was_impossible': False}\n",
            "user: 579        item: 15         r_ui = 2.58   est = 2.39   {'was_impossible': False}\n",
            "user: 1855       item: 431        r_ui = 2.52   est = 2.36   {'was_impossible': False}\n",
            "user: 50         item: 220        r_ui = 2.60   est = 2.83   {'was_impossible': False}\n",
            "user: 1248       item: 498        r_ui = 2.03   est = 2.59   {'was_impossible': False}\n",
            "user: 951        item: 11316      r_ui = 2.81   est = 2.84   {'was_impossible': False}\n",
            "user: 1666       item: 1059       r_ui = 2.98   est = 3.18   {'was_impossible': False}\n",
            "user: 1955       item: 65         r_ui = 1.94   est = 2.02   {'was_impossible': False}\n",
            "user: 114        item: 1369       r_ui = 2.03   est = 2.37   {'was_impossible': False}\n",
            "user: 1619       item: 377        r_ui = 2.66   est = 2.95   {'was_impossible': False}\n"
          ]
        }
      ],
      "source": [
        "predictions=model.test(testset)\n",
        "for x in predictions[:10]:\n",
        "    print(x)"
      ]
    },
    {
      "cell_type": "code",
      "execution_count": 433,
      "metadata": {
        "colab": {
          "base_uri": "https://localhost:8080/"
        },
        "id": "L20dvHUSDULC",
        "outputId": "4691bfb9-010c-4461-b6e7-678dc353a342"
      },
      "outputs": [
        {
          "name": "stdout",
          "output_type": "stream",
          "text": [
            "RMSE: 0.2688\n"
          ]
        },
        {
          "data": {
            "text/plain": [
              "0.26883490919862374"
            ]
          },
          "execution_count": 433,
          "metadata": {},
          "output_type": "execute_result"
        }
      ],
      "source": [
        "accuracy.rmse(predictions)"
      ]
    },
    {
      "cell_type": "code",
      "execution_count": 434,
      "metadata": {
        "id": "VIz476rFDULC"
      },
      "outputs": [],
      "source": [
        "\n",
        "def get_top_n_recommendations(predictions, n=10):\n",
        "    # Mapping user_id to song recommendations\n",
        "    top_n = {}\n",
        "    for uid, iid, true_r, est, _ in predictions:\n",
        "        # print(true_r,est)\n",
        "        if uid not in top_n:\n",
        "            top_n[uid] = []\n",
        "        top_n[uid].append((iid, est))\n",
        "\n",
        "    # Sort and return top n recommendations\n",
        "    for uid, user_ratings in top_n.items():\n",
        "        user_ratings.sort(key=lambda x: x[1], reverse=True)\n",
        "        top_n[uid] = user_ratings[:n]\n",
        "\n",
        "    return top_n"
      ]
    },
    {
      "cell_type": "code",
      "execution_count": 435,
      "metadata": {
        "colab": {
          "base_uri": "https://localhost:8080/"
        },
        "id": "jDbvYw9IDULC",
        "outputId": "40b40280-82e4-4844-8906-6f80347d75c3"
      },
      "outputs": [],
      "source": [
        "top_n_recommendations = get_top_n_recommendations(predictions, n=10)\n"
      ]
    },
    {
      "cell_type": "code",
      "execution_count": 436,
      "metadata": {
        "colab": {
          "base_uri": "https://localhost:8080/"
        },
        "id": "4ab8kPjGDULC",
        "outputId": "b9218450-dcc5-4192-c272-0da4cc43bd6b"
      },
      "outputs": [
        {
          "name": "stdout",
          "output_type": "stream",
          "text": [
            "62    Madonna\n",
            "Name: name, dtype: object\n",
            "68    Café Del Mar\n",
            "Name: name, dtype: object\n",
            "83    Gorillaz\n",
            "Name: name, dtype: object\n",
            "64    Sade\n",
            "Name: name, dtype: object\n",
            "85    Kosheen\n",
            "Name: name, dtype: object\n",
            "65    Moby\n",
            "Name: name, dtype: object\n",
            "66    Dido\n",
            "Name: name, dtype: object\n",
            "81    Katie Melua\n",
            "Name: name, dtype: object\n",
            "53    Goldfrapp\n",
            "Name: name, dtype: object\n",
            "49    Hooverphonic\n",
            "Name: name, dtype: object\n"
          ]
        }
      ],
      "source": [
        "for artist_id, rating in top_n_recommendations['2']:\n",
        "    print(df2[df2['artistID']==artist_id]['name'] )"
      ]
    },
    {
      "cell_type": "markdown",
      "metadata": {
        "id": "cF-zAXVTDULC"
      },
      "source": [
        "## Content Based Filtering\n"
      ]
    },
    {
      "cell_type": "code",
      "execution_count": 437,
      "metadata": {
        "id": "UUOGveTKDULC"
      },
      "outputs": [],
      "source": [
        "artist_metadata= pd.read_csv(Path('hetrec2011-lastfm-2k/user_taggedartists-timestamps.dat'),delimiter='\\t')"
      ]
    },
    {
      "cell_type": "code",
      "execution_count": 438,
      "metadata": {},
      "outputs": [
        {
          "data": {
            "text/html": [
              "<div>\n",
              "<style scoped>\n",
              "    .dataframe tbody tr th:only-of-type {\n",
              "        vertical-align: middle;\n",
              "    }\n",
              "\n",
              "    .dataframe tbody tr th {\n",
              "        vertical-align: top;\n",
              "    }\n",
              "\n",
              "    .dataframe thead th {\n",
              "        text-align: right;\n",
              "    }\n",
              "</style>\n",
              "<table border=\"1\" class=\"dataframe\">\n",
              "  <thead>\n",
              "    <tr style=\"text-align: right;\">\n",
              "      <th></th>\n",
              "      <th>userID</th>\n",
              "      <th>artistID</th>\n",
              "      <th>tagID</th>\n",
              "    </tr>\n",
              "  </thead>\n",
              "  <tbody>\n",
              "    <tr>\n",
              "      <th>0</th>\n",
              "      <td>2</td>\n",
              "      <td>52</td>\n",
              "      <td>13</td>\n",
              "    </tr>\n",
              "    <tr>\n",
              "      <th>1</th>\n",
              "      <td>2</td>\n",
              "      <td>52</td>\n",
              "      <td>15</td>\n",
              "    </tr>\n",
              "    <tr>\n",
              "      <th>2</th>\n",
              "      <td>2</td>\n",
              "      <td>52</td>\n",
              "      <td>18</td>\n",
              "    </tr>\n",
              "    <tr>\n",
              "      <th>3</th>\n",
              "      <td>2</td>\n",
              "      <td>52</td>\n",
              "      <td>21</td>\n",
              "    </tr>\n",
              "    <tr>\n",
              "      <th>4</th>\n",
              "      <td>2</td>\n",
              "      <td>52</td>\n",
              "      <td>41</td>\n",
              "    </tr>\n",
              "    <tr>\n",
              "      <th>...</th>\n",
              "      <td>...</td>\n",
              "      <td>...</td>\n",
              "      <td>...</td>\n",
              "    </tr>\n",
              "    <tr>\n",
              "      <th>186474</th>\n",
              "      <td>2100</td>\n",
              "      <td>16437</td>\n",
              "      <td>4</td>\n",
              "    </tr>\n",
              "    <tr>\n",
              "      <th>186475</th>\n",
              "      <td>2100</td>\n",
              "      <td>16437</td>\n",
              "      <td>292</td>\n",
              "    </tr>\n",
              "    <tr>\n",
              "      <th>186476</th>\n",
              "      <td>2100</td>\n",
              "      <td>16437</td>\n",
              "      <td>2087</td>\n",
              "    </tr>\n",
              "    <tr>\n",
              "      <th>186477</th>\n",
              "      <td>2100</td>\n",
              "      <td>16437</td>\n",
              "      <td>2801</td>\n",
              "    </tr>\n",
              "    <tr>\n",
              "      <th>186478</th>\n",
              "      <td>2100</td>\n",
              "      <td>16437</td>\n",
              "      <td>3335</td>\n",
              "    </tr>\n",
              "  </tbody>\n",
              "</table>\n",
              "<p>186479 rows × 3 columns</p>\n",
              "</div>"
            ],
            "text/plain": [
              "        userID  artistID  tagID\n",
              "0            2        52     13\n",
              "1            2        52     15\n",
              "2            2        52     18\n",
              "3            2        52     21\n",
              "4            2        52     41\n",
              "...        ...       ...    ...\n",
              "186474    2100     16437      4\n",
              "186475    2100     16437    292\n",
              "186476    2100     16437   2087\n",
              "186477    2100     16437   2801\n",
              "186478    2100     16437   3335\n",
              "\n",
              "[186479 rows x 3 columns]"
            ]
          },
          "execution_count": 438,
          "metadata": {},
          "output_type": "execute_result"
        }
      ],
      "source": [
        "artist_metadata.drop(columns=['timestamp'])"
      ]
    },
    {
      "cell_type": "code",
      "execution_count": 439,
      "metadata": {},
      "outputs": [
        {
          "name": "stdout",
          "output_type": "stream",
          "text": [
            "       artistID                                         tag_string\n",
            "0             1  552 1219 139 141 2850 139 141 179 541 139 141 ...\n",
            "1             2  30 127 575 61 30 30 179 575 14 233 727 179 575...\n",
            "2             3                4 4 2092 3706 4117 4122 4 3706 8882\n",
            "3             4  139 141 1 7561 9640 1 73 139 141 179 541 7 139...\n",
            "4             5                       179 190 575 575 612 575 1097\n",
            "...         ...                                                ...\n",
            "12518     18737                                  79 187 3660 25 67\n",
            "12519     18739                         370 18 21 73 78 79 187 121\n",
            "12520     18740                                              61 86\n",
            "12521     18741                                           33 11861\n",
            "12522     18744  13 14 15 32 62 79 187 565 574 2525 3081 3660 3...\n",
            "\n",
            "[12523 rows x 2 columns]\n"
          ]
        }
      ],
      "source": [
        "import pandas as pd\n",
        "\n",
        "\n",
        "grouped = artist_metadata.groupby('artistID')['tagID'].apply(list).reset_index()\n",
        "\n",
        "grouped['tag_string'] = grouped['tagID'].apply(lambda x: ' '.join(map(str, x)))\n",
        "\n",
        "print(grouped[['artistID', 'tag_string']])\n"
      ]
    },
    {
      "cell_type": "code",
      "execution_count": 440,
      "metadata": {},
      "outputs": [
        {
          "name": "stdout",
          "output_type": "stream",
          "text": [
            "Similar Artists: [   52    54    81  4108 18198  5200  4316   238  7821  3100]\n"
          ]
        }
      ],
      "source": [
        "from sklearn.feature_extraction.text import TfidfVectorizer\n",
        "import faiss\n",
        "#using faiss similarity measure to find similar songs to a specific song\n",
        "\n",
        "tfidf = TfidfVectorizer()\n",
        "tag_matrix = tfidf.fit_transform(grouped['tag_string']).toarray().astype('float32')\n",
        "\n",
        "\n",
        "dimension = tag_matrix.shape[1]\n",
        "index = faiss.IndexFlatL2(dimension)\n",
        "index.add(tag_matrix)\n",
        "\n",
        "def get_similar_songs(artist_id, k=5):\n",
        "    artist_idx = grouped.index[grouped['artistID'] == artist_id].tolist()[0]\n",
        "    query_vector = tag_matrix[artist_idx:artist_idx+1]\n",
        "\n",
        "    distances, indices = index.search(query_vector, k)\n",
        "\n",
        "    similar_songs = grouped.iloc[indices[0]]['artistID'].values\n",
        "    return similar_songs\n",
        "\n",
        "similar_songs= get_similar_songs(artist_id=52, k=10)\n",
        "print(\"Similar Artists:\", similar_songs)\n",
        "\n"
      ]
    },
    {
      "cell_type": "code",
      "execution_count": 441,
      "metadata": {},
      "outputs": [
        {
          "name": "stdout",
          "output_type": "stream",
          "text": [
            "47    Morcheeba\n",
            "Name: name, dtype: object\n",
            "49    Hooverphonic\n",
            "Name: name, dtype: object\n",
            "76    Portishead\n",
            "Name: name, dtype: object\n",
            "4027    Emancipator\n",
            "Name: name, dtype: object\n",
            "17164    Noon\n",
            "Name: name, dtype: object\n",
            "5082    Kid Loco\n",
            "Name: name, dtype: object\n",
            "4233    Tricky\n",
            "Name: name, dtype: object\n",
            "233    Massive Attack\n",
            "Name: name, dtype: object\n",
            "7639    Mandalay\n",
            "Name: name, dtype: object\n",
            "3081    Natalie Walker\n",
            "Name: name, dtype: object\n"
          ]
        }
      ],
      "source": [
        "\n",
        "for artist_id in similar_songs:\n",
        "    print(df2[df2['artistID']==str(artist_id)]['name'] )"
      ]
    },
    {
      "cell_type": "markdown",
      "metadata": {},
      "source": [
        "## Hybrid Reccomendations"
      ]
    },
    {
      "cell_type": "code",
      "execution_count": 442,
      "metadata": {},
      "outputs": [],
      "source": [
        "def hybrid_recommendations(user_id, n=10):\n",
        "    cf_predictions = [iid for (iid, _) in get_top_n_recommendations(predictions, n)[user_id]]\n",
        "    content_recs = []\n",
        "    # to find similar songs to the top10 songs recommended for the user from collaborative filtering\n",
        "    for artist_id in cf_predictions:\n",
        "        content_recs.extend(get_similar_songs(int(artist_id), k=5))\n",
        "    # print(cf_predictions)\n",
        "    # print(content_recs)\n",
        "    combined_recommendations = list(set(cf_predictions + content_recs))\n",
        "    \n",
        "    return combined_recommendations[:n]"
      ]
    },
    {
      "cell_type": "code",
      "execution_count": 443,
      "metadata": {},
      "outputs": [
        {
          "name": "stdout",
          "output_type": "stream",
          "text": [
            "895    Amy Winehouse\n",
            "Name: name, dtype: object\n",
            "9980    Şevval Sam\n",
            "Name: name, dtype: object\n",
            "647    Hadise\n",
            "Name: name, dtype: object\n",
            "7638    Anthea\n",
            "Name: name, dtype: object\n",
            "66    Dido\n",
            "Name: name, dtype: object\n",
            "4031    Lamb\n",
            "Name: name, dtype: object\n",
            "1548    Joss Stone\n",
            "Name: name, dtype: object\n",
            "149    Radiohead\n",
            "Name: name, dtype: object\n",
            "14993    Nancy Wilson\n",
            "Name: name, dtype: object\n",
            "81    Katie Melua\n",
            "Name: name, dtype: object\n"
          ]
        }
      ],
      "source": [
        "for artist_id in hybrid_recommendations('2',10):\n",
        "    print(df2[df2['artistID']==str(artist_id)]['name'] )"
      ]
    },
    {
      "cell_type": "code",
      "execution_count": null,
      "metadata": {},
      "outputs": [],
      "source": []
    }
  ],
  "metadata": {
    "accelerator": "GPU",
    "colab": {
      "gpuType": "T4",
      "provenance": []
    },
    "kernelspec": {
      "display_name": "Python 3",
      "name": "python3"
    },
    "language_info": {
      "codemirror_mode": {
        "name": "ipython",
        "version": 3
      },
      "file_extension": ".py",
      "mimetype": "text/x-python",
      "name": "python",
      "nbconvert_exporter": "python",
      "pygments_lexer": "ipython3",
      "version": "3.12.1"
    }
  },
  "nbformat": 4,
  "nbformat_minor": 0
}
